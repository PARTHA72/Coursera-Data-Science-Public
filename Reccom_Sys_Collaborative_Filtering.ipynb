{
    "cells": [
        {
            "metadata": {
                "collapsed": true
            },
            "cell_type": "markdown",
            "source": "# Collaborative Filtering"
        },
        {
            "metadata": {},
            "cell_type": "markdown",
            "source": "Recommendation systems are a collection of algorithms used to recommend items to users based on information taken from the user. These systems can be commonly seen in online stores, movies databases and job finders. In this notebook, we will explore recommendation systems based on Collaborative Filtering and implement simple version of one using Python and the Pandas library."
        },
        {
            "metadata": {},
            "cell_type": "markdown",
            "source": "### Table of Contents"
        },
        {
            "metadata": {},
            "cell_type": "markdown",
            "source": "<h1>Table of contents</h1>\n\n<div class=\"alert alert-block alert-info\" style=\"margin-top: 20px\">\n    <ol>\n        <li><a href=\"#ref1\">Acquiring the Data</a></li>\n        <li><a href=\"#ref2\">Preprocessing</a></li>\n        <li><a href=\"#ref3\">Collaborative Filtering</a></li>\n    </ol>\n</div>\n<br>\n<hr>"
        },
        {
            "metadata": {},
            "cell_type": "markdown",
            "source": "## Acquiring the Data"
        },
        {
            "metadata": {},
            "cell_type": "markdown",
            "source": "To acquire and extract the data, run the following Bash scripts:\nDataset acquired from GroupLens. Lets download the dataset. To download the data, we will use !wget to download it from IBM Object Storage.\n"
        },
        {
            "metadata": {},
            "cell_type": "code",
            "source": "!wget -O moviedataset.zip https://s3-api.us-geo.objectstorage.softlayer.net/cf-courses-data/CognitiveClass/ML0101ENv3/labs/moviedataset.zip\nprint('unziping ...')\n!unzip -o -j moviedataset.zip ",
            "execution_count": 1,
            "outputs": [
                {
                    "output_type": "stream",
                    "text": "--2020-04-12 13:24:13--  https://s3-api.us-geo.objectstorage.softlayer.net/cf-courses-data/CognitiveClass/ML0101ENv3/labs/moviedataset.zip\nResolving s3-api.us-geo.objectstorage.softlayer.net (s3-api.us-geo.objectstorage.softlayer.net)... 67.228.254.196\nConnecting to s3-api.us-geo.objectstorage.softlayer.net (s3-api.us-geo.objectstorage.softlayer.net)|67.228.254.196|:443... connected.\nHTTP request sent, awaiting response... 200 OK\nLength: 160301210 (153M) [application/zip]\nSaving to: \u2018moviedataset.zip\u2019\n\n100%[======================================>] 160,301,210 35.0MB/s   in 4.6s   \n\n2020-04-12 13:24:18 (33.2 MB/s) - \u2018moviedataset.zip\u2019 saved [160301210/160301210]\n\nunziping ...\nArchive:  moviedataset.zip\n  inflating: links.csv               \n  inflating: movies.csv              \n  inflating: ratings.csv             \n  inflating: README.txt              \n  inflating: tags.csv                \n",
                    "name": "stdout"
                }
            ]
        },
        {
            "metadata": {},
            "cell_type": "markdown",
            "source": "Now we are ready to start working with the Data !!"
        },
        {
            "metadata": {},
            "cell_type": "markdown",
            "source": "## Preprocessing"
        },
        {
            "metadata": {},
            "cell_type": "code",
            "source": "# Let us import the libraries first\n#Dataframe manipulation library\nimport pandas as pd\n#Math functions, we'll only need the sqrt function so let's import only that\nfrom math import sqrt\nimport numpy as np\nimport matplotlib.pyplot as plt\n%matplotlib inline",
            "execution_count": 2,
            "outputs": []
        },
        {
            "metadata": {},
            "cell_type": "code",
            "source": "# First step is to get the contents of the CSV files into the respective Panda DataFrame\n#Storing the movie information into a pandas dataframe\nmovies_df = pd.read_csv('movies.csv')\n#Storing the user information into a pandas dataframe\nratings_df = pd.read_csv('ratings.csv')",
            "execution_count": 3,
            "outputs": []
        },
        {
            "metadata": {},
            "cell_type": "code",
            "source": "# Peek into the data set\nmovies_df.head(10)",
            "execution_count": 4,
            "outputs": [
                {
                    "output_type": "execute_result",
                    "execution_count": 4,
                    "data": {
                        "text/plain": "   movieId                               title  \\\n0        1                    Toy Story (1995)   \n1        2                      Jumanji (1995)   \n2        3             Grumpier Old Men (1995)   \n3        4            Waiting to Exhale (1995)   \n4        5  Father of the Bride Part II (1995)   \n5        6                         Heat (1995)   \n6        7                      Sabrina (1995)   \n7        8                 Tom and Huck (1995)   \n8        9                 Sudden Death (1995)   \n9       10                    GoldenEye (1995)   \n\n                                        genres  \n0  Adventure|Animation|Children|Comedy|Fantasy  \n1                   Adventure|Children|Fantasy  \n2                               Comedy|Romance  \n3                         Comedy|Drama|Romance  \n4                                       Comedy  \n5                        Action|Crime|Thriller  \n6                               Comedy|Romance  \n7                           Adventure|Children  \n8                                       Action  \n9                    Action|Adventure|Thriller  ",
                        "text/html": "<div>\n<style scoped>\n    .dataframe tbody tr th:only-of-type {\n        vertical-align: middle;\n    }\n\n    .dataframe tbody tr th {\n        vertical-align: top;\n    }\n\n    .dataframe thead th {\n        text-align: right;\n    }\n</style>\n<table border=\"1\" class=\"dataframe\">\n  <thead>\n    <tr style=\"text-align: right;\">\n      <th></th>\n      <th>movieId</th>\n      <th>title</th>\n      <th>genres</th>\n    </tr>\n  </thead>\n  <tbody>\n    <tr>\n      <th>0</th>\n      <td>1</td>\n      <td>Toy Story (1995)</td>\n      <td>Adventure|Animation|Children|Comedy|Fantasy</td>\n    </tr>\n    <tr>\n      <th>1</th>\n      <td>2</td>\n      <td>Jumanji (1995)</td>\n      <td>Adventure|Children|Fantasy</td>\n    </tr>\n    <tr>\n      <th>2</th>\n      <td>3</td>\n      <td>Grumpier Old Men (1995)</td>\n      <td>Comedy|Romance</td>\n    </tr>\n    <tr>\n      <th>3</th>\n      <td>4</td>\n      <td>Waiting to Exhale (1995)</td>\n      <td>Comedy|Drama|Romance</td>\n    </tr>\n    <tr>\n      <th>4</th>\n      <td>5</td>\n      <td>Father of the Bride Part II (1995)</td>\n      <td>Comedy</td>\n    </tr>\n    <tr>\n      <th>5</th>\n      <td>6</td>\n      <td>Heat (1995)</td>\n      <td>Action|Crime|Thriller</td>\n    </tr>\n    <tr>\n      <th>6</th>\n      <td>7</td>\n      <td>Sabrina (1995)</td>\n      <td>Comedy|Romance</td>\n    </tr>\n    <tr>\n      <th>7</th>\n      <td>8</td>\n      <td>Tom and Huck (1995)</td>\n      <td>Adventure|Children</td>\n    </tr>\n    <tr>\n      <th>8</th>\n      <td>9</td>\n      <td>Sudden Death (1995)</td>\n      <td>Action</td>\n    </tr>\n    <tr>\n      <th>9</th>\n      <td>10</td>\n      <td>GoldenEye (1995)</td>\n      <td>Action|Adventure|Thriller</td>\n    </tr>\n  </tbody>\n</table>\n</div>"
                    },
                    "metadata": {}
                }
            ]
        },
        {
            "metadata": {},
            "cell_type": "markdown",
            "source": "So each movie has a unique ID, a title with its release year along with it and several different genres in the same field. The genres are '|' separated. Let's remove the year from the title column and place it into its own one by using the handy extract function that Pandas has.\n\nLet's remove the year from the title column by using pandas' replace function and store in a new year column."
        },
        {
            "metadata": {},
            "cell_type": "code",
            "source": "# extract the year into a new column\nmovies_df['year'] = movies_df.title.str.extract('(\\(\\d\\d\\d\\d\\))', expand=False)\n\n# Remove the () from the Year column\nmovies_df['year'] = movies_df.year.str.extract('(\\d\\d\\d\\d)', expand=False)\n\n# clean up the Title column to keep just the Movie name\nmovies_df['title'] = movies_df.title.str.replace('(\\(\\d\\d\\d\\d\\))', '')\n\n#Applying the strip function to get rid of any ending whitespace characters that may have appeared\nmovies_df['title'] = movies_df['title'].apply(lambda x: x.strip())\n\nmovies_df.head()",
            "execution_count": 5,
            "outputs": [
                {
                    "output_type": "execute_result",
                    "execution_count": 5,
                    "data": {
                        "text/plain": "   movieId                        title  \\\n0        1                    Toy Story   \n1        2                      Jumanji   \n2        3             Grumpier Old Men   \n3        4            Waiting to Exhale   \n4        5  Father of the Bride Part II   \n\n                                        genres  year  \n0  Adventure|Animation|Children|Comedy|Fantasy  1995  \n1                   Adventure|Children|Fantasy  1995  \n2                               Comedy|Romance  1995  \n3                         Comedy|Drama|Romance  1995  \n4                                       Comedy  1995  ",
                        "text/html": "<div>\n<style scoped>\n    .dataframe tbody tr th:only-of-type {\n        vertical-align: middle;\n    }\n\n    .dataframe tbody tr th {\n        vertical-align: top;\n    }\n\n    .dataframe thead th {\n        text-align: right;\n    }\n</style>\n<table border=\"1\" class=\"dataframe\">\n  <thead>\n    <tr style=\"text-align: right;\">\n      <th></th>\n      <th>movieId</th>\n      <th>title</th>\n      <th>genres</th>\n      <th>year</th>\n    </tr>\n  </thead>\n  <tbody>\n    <tr>\n      <th>0</th>\n      <td>1</td>\n      <td>Toy Story</td>\n      <td>Adventure|Animation|Children|Comedy|Fantasy</td>\n      <td>1995</td>\n    </tr>\n    <tr>\n      <th>1</th>\n      <td>2</td>\n      <td>Jumanji</td>\n      <td>Adventure|Children|Fantasy</td>\n      <td>1995</td>\n    </tr>\n    <tr>\n      <th>2</th>\n      <td>3</td>\n      <td>Grumpier Old Men</td>\n      <td>Comedy|Romance</td>\n      <td>1995</td>\n    </tr>\n    <tr>\n      <th>3</th>\n      <td>4</td>\n      <td>Waiting to Exhale</td>\n      <td>Comedy|Drama|Romance</td>\n      <td>1995</td>\n    </tr>\n    <tr>\n      <th>4</th>\n      <td>5</td>\n      <td>Father of the Bride Part II</td>\n      <td>Comedy</td>\n      <td>1995</td>\n    </tr>\n  </tbody>\n</table>\n</div>"
                    },
                    "metadata": {}
                }
            ]
        },
        {
            "metadata": {},
            "cell_type": "code",
            "source": "# Let us examine the Ratings data\nratings_df.head(10)",
            "execution_count": 6,
            "outputs": [
                {
                    "output_type": "execute_result",
                    "execution_count": 6,
                    "data": {
                        "text/plain": "   userId  movieId  rating   timestamp\n0       1      169     2.5  1204927694\n1       1     2471     3.0  1204927438\n2       1    48516     5.0  1204927435\n3       2     2571     3.5  1436165433\n4       2   109487     4.0  1436165496\n5       2   112552     5.0  1436165496\n6       2   112556     4.0  1436165499\n7       3      356     4.0   920587155\n8       3     2394     4.0   920586920\n9       3     2431     5.0   920586945",
                        "text/html": "<div>\n<style scoped>\n    .dataframe tbody tr th:only-of-type {\n        vertical-align: middle;\n    }\n\n    .dataframe tbody tr th {\n        vertical-align: top;\n    }\n\n    .dataframe thead th {\n        text-align: right;\n    }\n</style>\n<table border=\"1\" class=\"dataframe\">\n  <thead>\n    <tr style=\"text-align: right;\">\n      <th></th>\n      <th>userId</th>\n      <th>movieId</th>\n      <th>rating</th>\n      <th>timestamp</th>\n    </tr>\n  </thead>\n  <tbody>\n    <tr>\n      <th>0</th>\n      <td>1</td>\n      <td>169</td>\n      <td>2.5</td>\n      <td>1204927694</td>\n    </tr>\n    <tr>\n      <th>1</th>\n      <td>1</td>\n      <td>2471</td>\n      <td>3.0</td>\n      <td>1204927438</td>\n    </tr>\n    <tr>\n      <th>2</th>\n      <td>1</td>\n      <td>48516</td>\n      <td>5.0</td>\n      <td>1204927435</td>\n    </tr>\n    <tr>\n      <th>3</th>\n      <td>2</td>\n      <td>2571</td>\n      <td>3.5</td>\n      <td>1436165433</td>\n    </tr>\n    <tr>\n      <th>4</th>\n      <td>2</td>\n      <td>109487</td>\n      <td>4.0</td>\n      <td>1436165496</td>\n    </tr>\n    <tr>\n      <th>5</th>\n      <td>2</td>\n      <td>112552</td>\n      <td>5.0</td>\n      <td>1436165496</td>\n    </tr>\n    <tr>\n      <th>6</th>\n      <td>2</td>\n      <td>112556</td>\n      <td>4.0</td>\n      <td>1436165499</td>\n    </tr>\n    <tr>\n      <th>7</th>\n      <td>3</td>\n      <td>356</td>\n      <td>4.0</td>\n      <td>920587155</td>\n    </tr>\n    <tr>\n      <th>8</th>\n      <td>3</td>\n      <td>2394</td>\n      <td>4.0</td>\n      <td>920586920</td>\n    </tr>\n    <tr>\n      <th>9</th>\n      <td>3</td>\n      <td>2431</td>\n      <td>5.0</td>\n      <td>920586945</td>\n    </tr>\n  </tbody>\n</table>\n</div>"
                    },
                    "metadata": {}
                }
            ]
        },
        {
            "metadata": {},
            "cell_type": "code",
            "source": "#Drop the timestamp column as it is not making much sense\nratings_df.drop ('timestamp', axis=1)",
            "execution_count": 7,
            "outputs": [
                {
                    "output_type": "execute_result",
                    "execution_count": 7,
                    "data": {
                        "text/plain": "          userId  movieId  rating\n0              1      169     2.5\n1              1     2471     3.0\n2              1    48516     5.0\n3              2     2571     3.5\n4              2   109487     4.0\n5              2   112552     5.0\n6              2   112556     4.0\n7              3      356     4.0\n8              3     2394     4.0\n9              3     2431     5.0\n10             3     2445     4.0\n11             4       16     4.0\n12             4       39     4.0\n13             4       45     4.0\n14             4       47     2.0\n15             4       94     5.0\n16             4      101     4.0\n17             4      246     4.0\n18             4      288     2.0\n19             4      296     4.0\n20             4      345     4.0\n21             4      356     2.0\n22             4      357     4.0\n23             4      377     4.0\n24             4      417     4.0\n25             4      440     4.0\n26             4      457     4.0\n27             4      480     2.0\n28             4      492     3.0\n29             4      508     2.0\n...          ...      ...     ...\n22884347  247752    33166     2.0\n22884348  247752    42163     5.0\n22884349  247752    48516     4.0\n22884350  247752    54286     3.5\n22884351  247752    55820     4.0\n22884352  247752    63082     4.0\n22884353  247752    64614     4.0\n22884354  247752    68157     4.5\n22884355  247753        1     3.0\n22884356  247753      318     5.0\n22884357  247753      356     5.0\n22884358  247753      480     3.0\n22884359  247753      527     5.0\n22884360  247753     1203     4.5\n22884361  247753     1387     4.0\n22884362  247753     1704     5.0\n22884363  247753     2268     5.0\n22884364  247753     2571     4.0\n22884365  247753     3147     5.0\n22884366  247753     3996     4.0\n22884367  247753     4993     2.5\n22884368  247753     4995     5.0\n22884369  247753     8665     5.0\n22884370  247753    30707     5.0\n22884371  247753    48516     4.0\n22884372  247753    49530     5.0\n22884373  247753    69481     3.0\n22884374  247753    74458     4.0\n22884375  247753    76093     5.0\n22884376  247753   130636     0.5\n\n[22884377 rows x 3 columns]",
                        "text/html": "<div>\n<style scoped>\n    .dataframe tbody tr th:only-of-type {\n        vertical-align: middle;\n    }\n\n    .dataframe tbody tr th {\n        vertical-align: top;\n    }\n\n    .dataframe thead th {\n        text-align: right;\n    }\n</style>\n<table border=\"1\" class=\"dataframe\">\n  <thead>\n    <tr style=\"text-align: right;\">\n      <th></th>\n      <th>userId</th>\n      <th>movieId</th>\n      <th>rating</th>\n    </tr>\n  </thead>\n  <tbody>\n    <tr>\n      <th>0</th>\n      <td>1</td>\n      <td>169</td>\n      <td>2.5</td>\n    </tr>\n    <tr>\n      <th>1</th>\n      <td>1</td>\n      <td>2471</td>\n      <td>3.0</td>\n    </tr>\n    <tr>\n      <th>2</th>\n      <td>1</td>\n      <td>48516</td>\n      <td>5.0</td>\n    </tr>\n    <tr>\n      <th>3</th>\n      <td>2</td>\n      <td>2571</td>\n      <td>3.5</td>\n    </tr>\n    <tr>\n      <th>4</th>\n      <td>2</td>\n      <td>109487</td>\n      <td>4.0</td>\n    </tr>\n    <tr>\n      <th>5</th>\n      <td>2</td>\n      <td>112552</td>\n      <td>5.0</td>\n    </tr>\n    <tr>\n      <th>6</th>\n      <td>2</td>\n      <td>112556</td>\n      <td>4.0</td>\n    </tr>\n    <tr>\n      <th>7</th>\n      <td>3</td>\n      <td>356</td>\n      <td>4.0</td>\n    </tr>\n    <tr>\n      <th>8</th>\n      <td>3</td>\n      <td>2394</td>\n      <td>4.0</td>\n    </tr>\n    <tr>\n      <th>9</th>\n      <td>3</td>\n      <td>2431</td>\n      <td>5.0</td>\n    </tr>\n    <tr>\n      <th>10</th>\n      <td>3</td>\n      <td>2445</td>\n      <td>4.0</td>\n    </tr>\n    <tr>\n      <th>11</th>\n      <td>4</td>\n      <td>16</td>\n      <td>4.0</td>\n    </tr>\n    <tr>\n      <th>12</th>\n      <td>4</td>\n      <td>39</td>\n      <td>4.0</td>\n    </tr>\n    <tr>\n      <th>13</th>\n      <td>4</td>\n      <td>45</td>\n      <td>4.0</td>\n    </tr>\n    <tr>\n      <th>14</th>\n      <td>4</td>\n      <td>47</td>\n      <td>2.0</td>\n    </tr>\n    <tr>\n      <th>15</th>\n      <td>4</td>\n      <td>94</td>\n      <td>5.0</td>\n    </tr>\n    <tr>\n      <th>16</th>\n      <td>4</td>\n      <td>101</td>\n      <td>4.0</td>\n    </tr>\n    <tr>\n      <th>17</th>\n      <td>4</td>\n      <td>246</td>\n      <td>4.0</td>\n    </tr>\n    <tr>\n      <th>18</th>\n      <td>4</td>\n      <td>288</td>\n      <td>2.0</td>\n    </tr>\n    <tr>\n      <th>19</th>\n      <td>4</td>\n      <td>296</td>\n      <td>4.0</td>\n    </tr>\n    <tr>\n      <th>20</th>\n      <td>4</td>\n      <td>345</td>\n      <td>4.0</td>\n    </tr>\n    <tr>\n      <th>21</th>\n      <td>4</td>\n      <td>356</td>\n      <td>2.0</td>\n    </tr>\n    <tr>\n      <th>22</th>\n      <td>4</td>\n      <td>357</td>\n      <td>4.0</td>\n    </tr>\n    <tr>\n      <th>23</th>\n      <td>4</td>\n      <td>377</td>\n      <td>4.0</td>\n    </tr>\n    <tr>\n      <th>24</th>\n      <td>4</td>\n      <td>417</td>\n      <td>4.0</td>\n    </tr>\n    <tr>\n      <th>25</th>\n      <td>4</td>\n      <td>440</td>\n      <td>4.0</td>\n    </tr>\n    <tr>\n      <th>26</th>\n      <td>4</td>\n      <td>457</td>\n      <td>4.0</td>\n    </tr>\n    <tr>\n      <th>27</th>\n      <td>4</td>\n      <td>480</td>\n      <td>2.0</td>\n    </tr>\n    <tr>\n      <th>28</th>\n      <td>4</td>\n      <td>492</td>\n      <td>3.0</td>\n    </tr>\n    <tr>\n      <th>29</th>\n      <td>4</td>\n      <td>508</td>\n      <td>2.0</td>\n    </tr>\n    <tr>\n      <th>...</th>\n      <td>...</td>\n      <td>...</td>\n      <td>...</td>\n    </tr>\n    <tr>\n      <th>22884347</th>\n      <td>247752</td>\n      <td>33166</td>\n      <td>2.0</td>\n    </tr>\n    <tr>\n      <th>22884348</th>\n      <td>247752</td>\n      <td>42163</td>\n      <td>5.0</td>\n    </tr>\n    <tr>\n      <th>22884349</th>\n      <td>247752</td>\n      <td>48516</td>\n      <td>4.0</td>\n    </tr>\n    <tr>\n      <th>22884350</th>\n      <td>247752</td>\n      <td>54286</td>\n      <td>3.5</td>\n    </tr>\n    <tr>\n      <th>22884351</th>\n      <td>247752</td>\n      <td>55820</td>\n      <td>4.0</td>\n    </tr>\n    <tr>\n      <th>22884352</th>\n      <td>247752</td>\n      <td>63082</td>\n      <td>4.0</td>\n    </tr>\n    <tr>\n      <th>22884353</th>\n      <td>247752</td>\n      <td>64614</td>\n      <td>4.0</td>\n    </tr>\n    <tr>\n      <th>22884354</th>\n      <td>247752</td>\n      <td>68157</td>\n      <td>4.5</td>\n    </tr>\n    <tr>\n      <th>22884355</th>\n      <td>247753</td>\n      <td>1</td>\n      <td>3.0</td>\n    </tr>\n    <tr>\n      <th>22884356</th>\n      <td>247753</td>\n      <td>318</td>\n      <td>5.0</td>\n    </tr>\n    <tr>\n      <th>22884357</th>\n      <td>247753</td>\n      <td>356</td>\n      <td>5.0</td>\n    </tr>\n    <tr>\n      <th>22884358</th>\n      <td>247753</td>\n      <td>480</td>\n      <td>3.0</td>\n    </tr>\n    <tr>\n      <th>22884359</th>\n      <td>247753</td>\n      <td>527</td>\n      <td>5.0</td>\n    </tr>\n    <tr>\n      <th>22884360</th>\n      <td>247753</td>\n      <td>1203</td>\n      <td>4.5</td>\n    </tr>\n    <tr>\n      <th>22884361</th>\n      <td>247753</td>\n      <td>1387</td>\n      <td>4.0</td>\n    </tr>\n    <tr>\n      <th>22884362</th>\n      <td>247753</td>\n      <td>1704</td>\n      <td>5.0</td>\n    </tr>\n    <tr>\n      <th>22884363</th>\n      <td>247753</td>\n      <td>2268</td>\n      <td>5.0</td>\n    </tr>\n    <tr>\n      <th>22884364</th>\n      <td>247753</td>\n      <td>2571</td>\n      <td>4.0</td>\n    </tr>\n    <tr>\n      <th>22884365</th>\n      <td>247753</td>\n      <td>3147</td>\n      <td>5.0</td>\n    </tr>\n    <tr>\n      <th>22884366</th>\n      <td>247753</td>\n      <td>3996</td>\n      <td>4.0</td>\n    </tr>\n    <tr>\n      <th>22884367</th>\n      <td>247753</td>\n      <td>4993</td>\n      <td>2.5</td>\n    </tr>\n    <tr>\n      <th>22884368</th>\n      <td>247753</td>\n      <td>4995</td>\n      <td>5.0</td>\n    </tr>\n    <tr>\n      <th>22884369</th>\n      <td>247753</td>\n      <td>8665</td>\n      <td>5.0</td>\n    </tr>\n    <tr>\n      <th>22884370</th>\n      <td>247753</td>\n      <td>30707</td>\n      <td>5.0</td>\n    </tr>\n    <tr>\n      <th>22884371</th>\n      <td>247753</td>\n      <td>48516</td>\n      <td>4.0</td>\n    </tr>\n    <tr>\n      <th>22884372</th>\n      <td>247753</td>\n      <td>49530</td>\n      <td>5.0</td>\n    </tr>\n    <tr>\n      <th>22884373</th>\n      <td>247753</td>\n      <td>69481</td>\n      <td>3.0</td>\n    </tr>\n    <tr>\n      <th>22884374</th>\n      <td>247753</td>\n      <td>74458</td>\n      <td>4.0</td>\n    </tr>\n    <tr>\n      <th>22884375</th>\n      <td>247753</td>\n      <td>76093</td>\n      <td>5.0</td>\n    </tr>\n    <tr>\n      <th>22884376</th>\n      <td>247753</td>\n      <td>130636</td>\n      <td>0.5</td>\n    </tr>\n  </tbody>\n</table>\n<p>22884377 rows \u00d7 3 columns</p>\n</div>"
                    },
                    "metadata": {}
                }
            ]
        },
        {
            "metadata": {},
            "cell_type": "markdown",
            "source": "## Collaborative Filtering"
        },
        {
            "metadata": {},
            "cell_type": "markdown",
            "source": "Now, time to start our work on recommendation systems.\n\nThe first technique we're going to take a look at is called <b>Collaborative Filtering</b>, which is also known as <b>User-User Filtering</b>. As hinted by its alternate name, this technique uses other users to recommend items to the input user. It attempts to find users that have similar preferences and opinions as the input and then recommends items that they have liked to the input. There are several methods of finding similar users (Even some making use of Machine Learning), and the one we will be using here is going to be based on the Pearson Correlation Function."
        },
        {
            "metadata": {},
            "cell_type": "markdown",
            "source": "The process for creating a User Based recommendation system is as follows:\n\n- Select a user with the movies the user has watched\n- Based on his rating to movies, find the top X neighbours\n- Get the watched movie record of the user for each neighbour.\n- Calculate a similarity score using some formula\n- Recommend the items with the highest score\n\nLet's begin by creating an input user to recommend movies to:"
        },
        {
            "metadata": {},
            "cell_type": "code",
            "source": "userInput = [\n            {'title':'Breakfast Club, The', 'rating':5},\n            {'title':'Toy Story', 'rating':3.5},\n            {'title':'Jumanji', 'rating':2},\n            {'title':\"Pulp Fiction\", 'rating':5},\n            {'title':'Akira', 'rating':4.5}\n         ] \ninputMovies = pd.DataFrame(userInput)\ninputMovies",
            "execution_count": 8,
            "outputs": [
                {
                    "output_type": "execute_result",
                    "execution_count": 8,
                    "data": {
                        "text/plain": "   rating                title\n0     5.0  Breakfast Club, The\n1     3.5            Toy Story\n2     2.0              Jumanji\n3     5.0         Pulp Fiction\n4     4.5                Akira",
                        "text/html": "<div>\n<style scoped>\n    .dataframe tbody tr th:only-of-type {\n        vertical-align: middle;\n    }\n\n    .dataframe tbody tr th {\n        vertical-align: top;\n    }\n\n    .dataframe thead th {\n        text-align: right;\n    }\n</style>\n<table border=\"1\" class=\"dataframe\">\n  <thead>\n    <tr style=\"text-align: right;\">\n      <th></th>\n      <th>rating</th>\n      <th>title</th>\n    </tr>\n  </thead>\n  <tbody>\n    <tr>\n      <th>0</th>\n      <td>5.0</td>\n      <td>Breakfast Club, The</td>\n    </tr>\n    <tr>\n      <th>1</th>\n      <td>3.5</td>\n      <td>Toy Story</td>\n    </tr>\n    <tr>\n      <th>2</th>\n      <td>2.0</td>\n      <td>Jumanji</td>\n    </tr>\n    <tr>\n      <th>3</th>\n      <td>5.0</td>\n      <td>Pulp Fiction</td>\n    </tr>\n    <tr>\n      <th>4</th>\n      <td>4.5</td>\n      <td>Akira</td>\n    </tr>\n  </tbody>\n</table>\n</div>"
                    },
                    "metadata": {}
                }
            ]
        },
        {
            "metadata": {},
            "cell_type": "markdown",
            "source": "With the input complete, let's extract the input movies's ID's from the movies dataframe and add them into it.\n\nWe can achieve this by first filtering out the rows that contain the input movies' title and then merging this subset with the input dataframe. We also drop unnecessary columns for the input to save memory space."
        },
        {
            "metadata": {},
            "cell_type": "code",
            "source": "inputId = movies_df[movies_df['title'].isin(inputMovies['title'].tolist())]\ninputMovies = pd.merge (inputId, inputMovies )\n\n#Dropping information we won't use from the input dataframe\ninputMovies = inputMovies.drop(['year', 'genres'], 1)\n\ninputMovies",
            "execution_count": 9,
            "outputs": [
                {
                    "output_type": "execute_result",
                    "execution_count": 9,
                    "data": {
                        "text/plain": "   movieId                title  rating\n0        1            Toy Story     3.5\n1        2              Jumanji     2.0\n2      296         Pulp Fiction     5.0\n3     1274                Akira     4.5\n4     1968  Breakfast Club, The     5.0",
                        "text/html": "<div>\n<style scoped>\n    .dataframe tbody tr th:only-of-type {\n        vertical-align: middle;\n    }\n\n    .dataframe tbody tr th {\n        vertical-align: top;\n    }\n\n    .dataframe thead th {\n        text-align: right;\n    }\n</style>\n<table border=\"1\" class=\"dataframe\">\n  <thead>\n    <tr style=\"text-align: right;\">\n      <th></th>\n      <th>movieId</th>\n      <th>title</th>\n      <th>rating</th>\n    </tr>\n  </thead>\n  <tbody>\n    <tr>\n      <th>0</th>\n      <td>1</td>\n      <td>Toy Story</td>\n      <td>3.5</td>\n    </tr>\n    <tr>\n      <th>1</th>\n      <td>2</td>\n      <td>Jumanji</td>\n      <td>2.0</td>\n    </tr>\n    <tr>\n      <th>2</th>\n      <td>296</td>\n      <td>Pulp Fiction</td>\n      <td>5.0</td>\n    </tr>\n    <tr>\n      <th>3</th>\n      <td>1274</td>\n      <td>Akira</td>\n      <td>4.5</td>\n    </tr>\n    <tr>\n      <th>4</th>\n      <td>1968</td>\n      <td>Breakfast Club, The</td>\n      <td>5.0</td>\n    </tr>\n  </tbody>\n</table>\n</div>"
                    },
                    "metadata": {}
                }
            ]
        },
        {
            "metadata": {},
            "cell_type": "markdown",
            "source": "Now with the movie ID's in our input, we can now get the subset of users that have watched and reviewed the movies in our input."
        },
        {
            "metadata": {},
            "cell_type": "code",
            "source": "userSubset = ratings_df[ratings_df['movieId'].isin(inputMovies['movieId'].tolist())]\nuserSubset.drop('timestamp', axis=1, inplace=True)\nuserSubset.head(20)\n#userSubset.size",
            "execution_count": 10,
            "outputs": [
                {
                    "output_type": "stream",
                    "text": "/opt/conda/envs/Python36/lib/python3.6/site-packages/pandas/core/frame.py:3940: SettingWithCopyWarning: \nA value is trying to be set on a copy of a slice from a DataFrame\n\nSee the caveats in the documentation: http://pandas.pydata.org/pandas-docs/stable/indexing.html#indexing-view-versus-copy\n  errors=errors)\n",
                    "name": "stderr"
                },
                {
                    "output_type": "execute_result",
                    "execution_count": 10,
                    "data": {
                        "text/plain": "      userId  movieId  rating\n19         4      296     4.0\n441       12     1968     3.0\n479       13        2     2.0\n531       13     1274     5.0\n681       14      296     2.0\n749       15        1     4.0\n776       15      296     3.0\n911       15     1968     3.0\n1247      17        1     5.0\n1248      17        2     3.0\n1333      17      296     2.0\n1851      17     1968     3.0\n2283      18      296     4.0\n2342      20      296     3.0\n2752      23        1     5.0\n2981      26     1968     5.0\n3017      28        1     4.0\n3266      31      296     4.5\n3363      32      296     5.0\n3402      34        1     3.0",
                        "text/html": "<div>\n<style scoped>\n    .dataframe tbody tr th:only-of-type {\n        vertical-align: middle;\n    }\n\n    .dataframe tbody tr th {\n        vertical-align: top;\n    }\n\n    .dataframe thead th {\n        text-align: right;\n    }\n</style>\n<table border=\"1\" class=\"dataframe\">\n  <thead>\n    <tr style=\"text-align: right;\">\n      <th></th>\n      <th>userId</th>\n      <th>movieId</th>\n      <th>rating</th>\n    </tr>\n  </thead>\n  <tbody>\n    <tr>\n      <th>19</th>\n      <td>4</td>\n      <td>296</td>\n      <td>4.0</td>\n    </tr>\n    <tr>\n      <th>441</th>\n      <td>12</td>\n      <td>1968</td>\n      <td>3.0</td>\n    </tr>\n    <tr>\n      <th>479</th>\n      <td>13</td>\n      <td>2</td>\n      <td>2.0</td>\n    </tr>\n    <tr>\n      <th>531</th>\n      <td>13</td>\n      <td>1274</td>\n      <td>5.0</td>\n    </tr>\n    <tr>\n      <th>681</th>\n      <td>14</td>\n      <td>296</td>\n      <td>2.0</td>\n    </tr>\n    <tr>\n      <th>749</th>\n      <td>15</td>\n      <td>1</td>\n      <td>4.0</td>\n    </tr>\n    <tr>\n      <th>776</th>\n      <td>15</td>\n      <td>296</td>\n      <td>3.0</td>\n    </tr>\n    <tr>\n      <th>911</th>\n      <td>15</td>\n      <td>1968</td>\n      <td>3.0</td>\n    </tr>\n    <tr>\n      <th>1247</th>\n      <td>17</td>\n      <td>1</td>\n      <td>5.0</td>\n    </tr>\n    <tr>\n      <th>1248</th>\n      <td>17</td>\n      <td>2</td>\n      <td>3.0</td>\n    </tr>\n    <tr>\n      <th>1333</th>\n      <td>17</td>\n      <td>296</td>\n      <td>2.0</td>\n    </tr>\n    <tr>\n      <th>1851</th>\n      <td>17</td>\n      <td>1968</td>\n      <td>3.0</td>\n    </tr>\n    <tr>\n      <th>2283</th>\n      <td>18</td>\n      <td>296</td>\n      <td>4.0</td>\n    </tr>\n    <tr>\n      <th>2342</th>\n      <td>20</td>\n      <td>296</td>\n      <td>3.0</td>\n    </tr>\n    <tr>\n      <th>2752</th>\n      <td>23</td>\n      <td>1</td>\n      <td>5.0</td>\n    </tr>\n    <tr>\n      <th>2981</th>\n      <td>26</td>\n      <td>1968</td>\n      <td>5.0</td>\n    </tr>\n    <tr>\n      <th>3017</th>\n      <td>28</td>\n      <td>1</td>\n      <td>4.0</td>\n    </tr>\n    <tr>\n      <th>3266</th>\n      <td>31</td>\n      <td>296</td>\n      <td>4.5</td>\n    </tr>\n    <tr>\n      <th>3363</th>\n      <td>32</td>\n      <td>296</td>\n      <td>5.0</td>\n    </tr>\n    <tr>\n      <th>3402</th>\n      <td>34</td>\n      <td>1</td>\n      <td>3.0</td>\n    </tr>\n  </tbody>\n</table>\n</div>"
                    },
                    "metadata": {}
                }
            ]
        },
        {
            "metadata": {},
            "cell_type": "code",
            "source": "userSubsetGroup = userSubset.groupby('userId')",
            "execution_count": 11,
            "outputs": []
        },
        {
            "metadata": {},
            "cell_type": "code",
            "source": "userSubsetGroup.get_group(34)",
            "execution_count": 12,
            "outputs": [
                {
                    "output_type": "execute_result",
                    "execution_count": 12,
                    "data": {
                        "text/plain": "      userId  movieId  rating\n3402      34        1     3.0\n3403      34        2     2.5\n3420      34      296     4.0",
                        "text/html": "<div>\n<style scoped>\n    .dataframe tbody tr th:only-of-type {\n        vertical-align: middle;\n    }\n\n    .dataframe tbody tr th {\n        vertical-align: top;\n    }\n\n    .dataframe thead th {\n        text-align: right;\n    }\n</style>\n<table border=\"1\" class=\"dataframe\">\n  <thead>\n    <tr style=\"text-align: right;\">\n      <th></th>\n      <th>userId</th>\n      <th>movieId</th>\n      <th>rating</th>\n    </tr>\n  </thead>\n  <tbody>\n    <tr>\n      <th>3402</th>\n      <td>34</td>\n      <td>1</td>\n      <td>3.0</td>\n    </tr>\n    <tr>\n      <th>3403</th>\n      <td>34</td>\n      <td>2</td>\n      <td>2.5</td>\n    </tr>\n    <tr>\n      <th>3420</th>\n      <td>34</td>\n      <td>296</td>\n      <td>4.0</td>\n    </tr>\n  </tbody>\n</table>\n</div>"
                    },
                    "metadata": {}
                }
            ]
        },
        {
            "metadata": {},
            "cell_type": "code",
            "source": "",
            "execution_count": null,
            "outputs": []
        },
        {
            "metadata": {},
            "cell_type": "markdown",
            "source": "Let's also sort these groups so the users that share the most movies in common with the input have higher priority. This provides a richer recommendation since we won't go through every single user."
        },
        {
            "metadata": {},
            "cell_type": "code",
            "source": "#Sorting it so users with movie most in common with the input will have priority\nuserSubsetGroup = sorted(userSubsetGroup,  key=lambda x: len(x[1]), reverse=True)",
            "execution_count": 13,
            "outputs": []
        },
        {
            "metadata": {},
            "cell_type": "code",
            "source": "userSubsetGroup[0:3]",
            "execution_count": 14,
            "outputs": [
                {
                    "output_type": "execute_result",
                    "execution_count": 14,
                    "data": {
                        "text/plain": "[(75,       userId  movieId  rating\n  7507      75        1     5.0\n  7508      75        2     3.5\n  7540      75      296     5.0\n  7633      75     1274     4.5\n  7673      75     1968     5.0), (106,       userId  movieId  rating\n  9083     106        1     2.5\n  9084     106        2     3.0\n  9115     106      296     3.5\n  9198     106     1274     3.0\n  9238     106     1968     3.5), (686,        userId  movieId  rating\n  61336     686        1     4.0\n  61337     686        2     3.0\n  61377     686      296     4.0\n  61478     686     1274     4.0\n  61569     686     1968     5.0)]"
                    },
                    "metadata": {}
                }
            ]
        },
        {
            "metadata": {},
            "cell_type": "markdown",
            "source": "#### Similarity of users to input user\nNext, we are going to compare all users (not really all !!!) to our specified user and find the one that is most similar.  \nwe're going to find out how similar each user is to the input through the __Pearson Correlation Coefficient__. It is used to measure the strength of a linear association between two variables. The formula for finding this coefficient between sets X and Y with N values can be seen in the image below. \n\nWhy Pearson Correlation?\n\nPearson correlation is invariant to scaling, i.e. multiplying all elements by a nonzero constant or adding any constant to all elements. For example, if you have two vectors X and Y,then, pearson(X, Y) == pearson(X, 2 * Y + 3). This is a pretty important property in recommendation systems because for example two users might rate two series of items totally different in terms of absolute rates, but they would be similar users (i.e. with similar ideas) with similar rates in various scales .\n\n![alt text](https://wikimedia.org/api/rest_v1/media/math/render/svg/bd1ccc2979b0fd1c1aec96e386f686ae874f9ec0 \"Pearson Correlation\")\n\nThe values given by the formula vary from r = -1 to r = 1, where 1 forms a direct correlation between the two entities (it means a perfect positive correlation) and -1 forms a perfect negative correlation. \n\nIn our case, a 1 means that the two users have similar tastes while a -1 means the opposite."
        },
        {
            "metadata": {},
            "cell_type": "code",
            "source": "userSubsetGroup = userSubsetGroup[0:100]",
            "execution_count": 15,
            "outputs": []
        },
        {
            "metadata": {},
            "cell_type": "code",
            "source": "#Store the Pearson Correlation in a dictionary, where the key is the user Id and the value is the coefficient\npearsonCorrelationDict = {}\n\n#For every user group in our subset\nfor name, group in userSubsetGroup:\n    #Let's start by sorting the input and current user group so the values aren't mixed up later on\n    group = group.sort_values(by='movieId')\n    inputMovies = inputMovies.sort_values(by='movieId')\n    #Get the N for the formula\n    nRatings = len(group)\n    #Get the review scores for the movies that they both have in common\n    temp_df = inputMovies[inputMovies['movieId'].isin(group['movieId'].tolist())]\n    #And then store them in a temporary buffer variable in a list format to facilitate future calculations\n    tempRatingList = temp_df['rating'].tolist()\n    #Let's also put the current user group reviews in a list format\n    tempGroupList = group['rating'].tolist()\n    #Now let's calculate the pearson correlation between two users, so called, x and y\n    Sxx = sum([i**2 for i in tempRatingList]) - pow(sum(tempRatingList),2)/float(nRatings)\n    Syy = sum([i**2 for i in tempGroupList]) - pow(sum(tempGroupList),2)/float(nRatings)\n    Sxy = sum( i*j for i, j in zip(tempRatingList, tempGroupList)) - sum(tempRatingList)*sum(tempGroupList)/float(nRatings)\n    \n    #If the denominator is different than zero, then divide, else, 0 correlation.\n    if Sxx != 0 and Syy != 0:\n        pearsonCorrelationDict[name] = Sxy/sqrt(Sxx*Syy)\n    else:\n        pearsonCorrelationDict[name] = 0",
            "execution_count": 16,
            "outputs": []
        },
        {
            "metadata": {},
            "cell_type": "code",
            "source": "pearsonCorrelationDict.items()",
            "execution_count": 17,
            "outputs": [
                {
                    "output_type": "execute_result",
                    "execution_count": 17,
                    "data": {
                        "text/plain": "dict_items([(75, 0.8272781516947562), (106, 0.5860090386731182), (686, 0.8320502943378437), (815, 0.5765566601970551), (1040, 0.9434563530497265), (1130, 0.2891574659831201), (1502, 0.8770580193070299), (1599, 0.4385290096535153), (1625, 0.716114874039432), (1950, 0.179028718509858), (2065, 0.4385290096535153), (2128, 0.5860090386731196), (2432, 0.1386750490563073), (2791, 0.8770580193070299), (2839, 0.8204126541423674), (2948, -0.11720180773462392), (3025, 0.45124262819713973), (3040, 0.89514359254929), (3186, 0.6784622064861935), (3271, 0.26989594817970664), (3429, 0.0), (3734, -0.15041420939904673), (4099, 0.05860090386731196), (4208, 0.29417420270727607), (4282, -0.4385290096535115), (4292, 0.6564386345361464), (4415, -0.11183835382312353), (4586, -0.9024852563942795), (4725, -0.08006407690254357), (4818, 0.4885967564883424), (5104, 0.7674257668936507), (5165, -0.4385290096535153), (5547, 0.17200522903844556), (6082, -0.04728779924109591), (6207, 0.9615384615384616), (6366, 0.6577935144802716), (6482, 0.0), (6530, -0.3516054232038709), (7235, 0.6981407669689391), (7403, 0.11720180773462363), (7641, 0.7161148740394331), (7996, 0.626600514784504), (8008, -0.22562131409856986), (8086, 0.6933752452815365), (8245, 0.0), (8572, 0.8600261451922278), (8675, 0.5370861555295773), (9101, -0.08600261451922278), (9358, 0.692178738358485), (9663, 0.193972725041952), (9994, 0.5030272728659587), (10248, -0.24806946917841693), (10315, 0.537086155529574), (10368, 0.4688072309384945), (10607, 0.41602514716892186), (10707, 0.9615384615384616), (10863, 0.6020183016345595), (11314, 0.8204126541423654), (11399, 0.517260600111872), (11769, 0.9376144618769914), (11827, 0.4902903378454601), (12069, 0.0), (12120, 0.9292940047327363), (12211, 0.8600261451922278), (12325, 0.9616783115081544), (12916, 0.5860090386731196), (12921, 0.6611073566849309), (13053, 0.9607689228305227), (13142, 0.6016568375961863), (13260, 0.7844645405527362), (13366, 0.8951435925492911), (13768, 0.8770580193070289), (13888, 0.2508726030021272), (13923, 0.3516054232038718), (13934, 0.17200522903844556), (14529, 0.7417901772340937), (14551, 0.537086155529574), (14588, 0.21926450482675766), (14984, 0.716114874039432), (15137, 0.5860090386731196), (15157, 0.9035841064985974), (15466, 0.7205766921228921), (15670, 0.516015687115336), (15834, 0.22562131409856986), (16292, 0.6577935144802716), (16456, 0.7161148740394331), (16506, 0.5481612620668942), (17246, 0.48038446141526137), (17438, 0.7093169886164387), (17501, 0.8168748513121271), (17502, 0.8272781516947562), (17666, 0.7689238340176859), (17735, 0.7042381820123422), (17742, 0.3922322702763681), (17757, 0.64657575013984), (17854, 0.537086155529574), (17897, 0.8770580193070289), (17944, 0.2713848825944774), (18301, 0.29838119751643016), (18509, 0.1322214713369862)])"
                    },
                    "metadata": {}
                }
            ]
        },
        {
            "metadata": {},
            "cell_type": "code",
            "source": "pearsonDF = pd.DataFrame.from_dict(pearsonCorrelationDict, orient='index')\npearsonDF.columns = ['similarityIndex']\npearsonDF['userId'] = pearsonDF.index\npearsonDF.index = range(len(pearsonDF))\npearsonDF.head()",
            "execution_count": 18,
            "outputs": [
                {
                    "output_type": "execute_result",
                    "execution_count": 18,
                    "data": {
                        "text/plain": "   similarityIndex  userId\n0         0.827278      75\n1         0.586009     106\n2         0.832050     686\n3         0.576557     815\n4         0.943456    1040",
                        "text/html": "<div>\n<style scoped>\n    .dataframe tbody tr th:only-of-type {\n        vertical-align: middle;\n    }\n\n    .dataframe tbody tr th {\n        vertical-align: top;\n    }\n\n    .dataframe thead th {\n        text-align: right;\n    }\n</style>\n<table border=\"1\" class=\"dataframe\">\n  <thead>\n    <tr style=\"text-align: right;\">\n      <th></th>\n      <th>similarityIndex</th>\n      <th>userId</th>\n    </tr>\n  </thead>\n  <tbody>\n    <tr>\n      <th>0</th>\n      <td>0.827278</td>\n      <td>75</td>\n    </tr>\n    <tr>\n      <th>1</th>\n      <td>0.586009</td>\n      <td>106</td>\n    </tr>\n    <tr>\n      <th>2</th>\n      <td>0.832050</td>\n      <td>686</td>\n    </tr>\n    <tr>\n      <th>3</th>\n      <td>0.576557</td>\n      <td>815</td>\n    </tr>\n    <tr>\n      <th>4</th>\n      <td>0.943456</td>\n      <td>1040</td>\n    </tr>\n  </tbody>\n</table>\n</div>"
                    },
                    "metadata": {}
                }
            ]
        },
        {
            "metadata": {},
            "cell_type": "markdown",
            "source": "### The top x similar users to input user\nNow let's get the top 50 users that are most similar to the input."
        },
        {
            "metadata": {},
            "cell_type": "code",
            "source": "topUsers=pearsonDF.sort_values(by='similarityIndex', ascending=False)[0:50]\ntopUsers.head()",
            "execution_count": 19,
            "outputs": [
                {
                    "output_type": "execute_result",
                    "execution_count": 19,
                    "data": {
                        "text/plain": "    similarityIndex  userId\n64         0.961678   12325\n34         0.961538    6207\n55         0.961538   10707\n67         0.960769   13053\n4          0.943456    1040",
                        "text/html": "<div>\n<style scoped>\n    .dataframe tbody tr th:only-of-type {\n        vertical-align: middle;\n    }\n\n    .dataframe tbody tr th {\n        vertical-align: top;\n    }\n\n    .dataframe thead th {\n        text-align: right;\n    }\n</style>\n<table border=\"1\" class=\"dataframe\">\n  <thead>\n    <tr style=\"text-align: right;\">\n      <th></th>\n      <th>similarityIndex</th>\n      <th>userId</th>\n    </tr>\n  </thead>\n  <tbody>\n    <tr>\n      <th>64</th>\n      <td>0.961678</td>\n      <td>12325</td>\n    </tr>\n    <tr>\n      <th>34</th>\n      <td>0.961538</td>\n      <td>6207</td>\n    </tr>\n    <tr>\n      <th>55</th>\n      <td>0.961538</td>\n      <td>10707</td>\n    </tr>\n    <tr>\n      <th>67</th>\n      <td>0.960769</td>\n      <td>13053</td>\n    </tr>\n    <tr>\n      <th>4</th>\n      <td>0.943456</td>\n      <td>1040</td>\n    </tr>\n  </tbody>\n</table>\n</div>"
                    },
                    "metadata": {}
                }
            ]
        },
        {
            "metadata": {},
            "cell_type": "code",
            "source": "topUsersRating=topUsers.merge(ratings_df, left_on='userId', right_on='userId', how='inner')\ntopUsersRating.head()",
            "execution_count": 20,
            "outputs": [
                {
                    "output_type": "execute_result",
                    "execution_count": 20,
                    "data": {
                        "text/plain": "   similarityIndex  userId  movieId  rating   timestamp\n0         0.961678   12325        1     3.5  1161524167\n1         0.961678   12325        2     1.5  1161526718\n2         0.961678   12325        3     3.0  1161526888\n3         0.961678   12325        5     0.5  1161527105\n4         0.961678   12325        6     2.5  1161524574",
                        "text/html": "<div>\n<style scoped>\n    .dataframe tbody tr th:only-of-type {\n        vertical-align: middle;\n    }\n\n    .dataframe tbody tr th {\n        vertical-align: top;\n    }\n\n    .dataframe thead th {\n        text-align: right;\n    }\n</style>\n<table border=\"1\" class=\"dataframe\">\n  <thead>\n    <tr style=\"text-align: right;\">\n      <th></th>\n      <th>similarityIndex</th>\n      <th>userId</th>\n      <th>movieId</th>\n      <th>rating</th>\n      <th>timestamp</th>\n    </tr>\n  </thead>\n  <tbody>\n    <tr>\n      <th>0</th>\n      <td>0.961678</td>\n      <td>12325</td>\n      <td>1</td>\n      <td>3.5</td>\n      <td>1161524167</td>\n    </tr>\n    <tr>\n      <th>1</th>\n      <td>0.961678</td>\n      <td>12325</td>\n      <td>2</td>\n      <td>1.5</td>\n      <td>1161526718</td>\n    </tr>\n    <tr>\n      <th>2</th>\n      <td>0.961678</td>\n      <td>12325</td>\n      <td>3</td>\n      <td>3.0</td>\n      <td>1161526888</td>\n    </tr>\n    <tr>\n      <th>3</th>\n      <td>0.961678</td>\n      <td>12325</td>\n      <td>5</td>\n      <td>0.5</td>\n      <td>1161527105</td>\n    </tr>\n    <tr>\n      <th>4</th>\n      <td>0.961678</td>\n      <td>12325</td>\n      <td>6</td>\n      <td>2.5</td>\n      <td>1161524574</td>\n    </tr>\n  </tbody>\n</table>\n</div>"
                    },
                    "metadata": {}
                }
            ]
        },
        {
            "metadata": {},
            "cell_type": "code",
            "source": "#Multiplies the similarity by the user's ratings\ntopUsersRating['weightedRating'] = topUsersRating['similarityIndex']*topUsersRating['rating']\ntopUsersRating.head()",
            "execution_count": 21,
            "outputs": [
                {
                    "output_type": "execute_result",
                    "execution_count": 21,
                    "data": {
                        "text/plain": "   similarityIndex  userId  movieId  rating   timestamp  weightedRating\n0         0.961678   12325        1     3.5  1161524167        3.365874\n1         0.961678   12325        2     1.5  1161526718        1.442517\n2         0.961678   12325        3     3.0  1161526888        2.885035\n3         0.961678   12325        5     0.5  1161527105        0.480839\n4         0.961678   12325        6     2.5  1161524574        2.404196",
                        "text/html": "<div>\n<style scoped>\n    .dataframe tbody tr th:only-of-type {\n        vertical-align: middle;\n    }\n\n    .dataframe tbody tr th {\n        vertical-align: top;\n    }\n\n    .dataframe thead th {\n        text-align: right;\n    }\n</style>\n<table border=\"1\" class=\"dataframe\">\n  <thead>\n    <tr style=\"text-align: right;\">\n      <th></th>\n      <th>similarityIndex</th>\n      <th>userId</th>\n      <th>movieId</th>\n      <th>rating</th>\n      <th>timestamp</th>\n      <th>weightedRating</th>\n    </tr>\n  </thead>\n  <tbody>\n    <tr>\n      <th>0</th>\n      <td>0.961678</td>\n      <td>12325</td>\n      <td>1</td>\n      <td>3.5</td>\n      <td>1161524167</td>\n      <td>3.365874</td>\n    </tr>\n    <tr>\n      <th>1</th>\n      <td>0.961678</td>\n      <td>12325</td>\n      <td>2</td>\n      <td>1.5</td>\n      <td>1161526718</td>\n      <td>1.442517</td>\n    </tr>\n    <tr>\n      <th>2</th>\n      <td>0.961678</td>\n      <td>12325</td>\n      <td>3</td>\n      <td>3.0</td>\n      <td>1161526888</td>\n      <td>2.885035</td>\n    </tr>\n    <tr>\n      <th>3</th>\n      <td>0.961678</td>\n      <td>12325</td>\n      <td>5</td>\n      <td>0.5</td>\n      <td>1161527105</td>\n      <td>0.480839</td>\n    </tr>\n    <tr>\n      <th>4</th>\n      <td>0.961678</td>\n      <td>12325</td>\n      <td>6</td>\n      <td>2.5</td>\n      <td>1161524574</td>\n      <td>2.404196</td>\n    </tr>\n  </tbody>\n</table>\n</div>"
                    },
                    "metadata": {}
                }
            ]
        },
        {
            "metadata": {},
            "cell_type": "code",
            "source": "#Applies a sum to the topUsers after grouping it up by userId\ntempTopUsersRating = topUsersRating.groupby('movieId').sum()[['similarityIndex','weightedRating']]\ntempTopUsersRating.columns = ['sum_similarityIndex','sum_weightedRating']\ntempTopUsersRating.head()",
            "execution_count": 22,
            "outputs": [
                {
                    "output_type": "execute_result",
                    "execution_count": 22,
                    "data": {
                        "text/plain": "         sum_similarityIndex  sum_weightedRating\nmovieId                                         \n1                  38.376281          140.800834\n2                  38.376281           96.656745\n3                  10.253981           27.254477\n4                   0.929294            2.787882\n5                  11.723262           27.151751",
                        "text/html": "<div>\n<style scoped>\n    .dataframe tbody tr th:only-of-type {\n        vertical-align: middle;\n    }\n\n    .dataframe tbody tr th {\n        vertical-align: top;\n    }\n\n    .dataframe thead th {\n        text-align: right;\n    }\n</style>\n<table border=\"1\" class=\"dataframe\">\n  <thead>\n    <tr style=\"text-align: right;\">\n      <th></th>\n      <th>sum_similarityIndex</th>\n      <th>sum_weightedRating</th>\n    </tr>\n    <tr>\n      <th>movieId</th>\n      <th></th>\n      <th></th>\n    </tr>\n  </thead>\n  <tbody>\n    <tr>\n      <th>1</th>\n      <td>38.376281</td>\n      <td>140.800834</td>\n    </tr>\n    <tr>\n      <th>2</th>\n      <td>38.376281</td>\n      <td>96.656745</td>\n    </tr>\n    <tr>\n      <th>3</th>\n      <td>10.253981</td>\n      <td>27.254477</td>\n    </tr>\n    <tr>\n      <th>4</th>\n      <td>0.929294</td>\n      <td>2.787882</td>\n    </tr>\n    <tr>\n      <th>5</th>\n      <td>11.723262</td>\n      <td>27.151751</td>\n    </tr>\n  </tbody>\n</table>\n</div>"
                    },
                    "metadata": {}
                }
            ]
        },
        {
            "metadata": {},
            "cell_type": "code",
            "source": "#Creates an empty dataframe\nrecommendation_df = pd.DataFrame()\n#Now we take the weighted average\nrecommendation_df['weighted average recommendation score'] = tempTopUsersRating['sum_weightedRating']/tempTopUsersRating['sum_similarityIndex']\nrecommendation_df['movieId'] = tempTopUsersRating.index\nrecommendation_df.head()",
            "execution_count": 23,
            "outputs": [
                {
                    "output_type": "execute_result",
                    "execution_count": 23,
                    "data": {
                        "text/plain": "         weighted average recommendation score  movieId\nmovieId                                                \n1                                     3.668955        1\n2                                     2.518658        2\n3                                     2.657941        3\n4                                     3.000000        4\n5                                     2.316058        5",
                        "text/html": "<div>\n<style scoped>\n    .dataframe tbody tr th:only-of-type {\n        vertical-align: middle;\n    }\n\n    .dataframe tbody tr th {\n        vertical-align: top;\n    }\n\n    .dataframe thead th {\n        text-align: right;\n    }\n</style>\n<table border=\"1\" class=\"dataframe\">\n  <thead>\n    <tr style=\"text-align: right;\">\n      <th></th>\n      <th>weighted average recommendation score</th>\n      <th>movieId</th>\n    </tr>\n    <tr>\n      <th>movieId</th>\n      <th></th>\n      <th></th>\n    </tr>\n  </thead>\n  <tbody>\n    <tr>\n      <th>1</th>\n      <td>3.668955</td>\n      <td>1</td>\n    </tr>\n    <tr>\n      <th>2</th>\n      <td>2.518658</td>\n      <td>2</td>\n    </tr>\n    <tr>\n      <th>3</th>\n      <td>2.657941</td>\n      <td>3</td>\n    </tr>\n    <tr>\n      <th>4</th>\n      <td>3.000000</td>\n      <td>4</td>\n    </tr>\n    <tr>\n      <th>5</th>\n      <td>2.316058</td>\n      <td>5</td>\n    </tr>\n  </tbody>\n</table>\n</div>"
                    },
                    "metadata": {}
                }
            ]
        },
        {
            "metadata": {},
            "cell_type": "code",
            "source": "recommendation_df = recommendation_df.sort_values(by='weighted average recommendation score', ascending=False)\nrecommendation_df.head(10)",
            "execution_count": 24,
            "outputs": [
                {
                    "output_type": "execute_result",
                    "execution_count": 24,
                    "data": {
                        "text/plain": "         weighted average recommendation score  movieId\nmovieId                                                \n5073                                       5.0     5073\n3329                                       5.0     3329\n2284                                       5.0     2284\n26801                                      5.0    26801\n6776                                       5.0     6776\n6672                                       5.0     6672\n3759                                       5.0     3759\n3769                                       5.0     3769\n3775                                       5.0     3775\n90531                                      5.0    90531",
                        "text/html": "<div>\n<style scoped>\n    .dataframe tbody tr th:only-of-type {\n        vertical-align: middle;\n    }\n\n    .dataframe tbody tr th {\n        vertical-align: top;\n    }\n\n    .dataframe thead th {\n        text-align: right;\n    }\n</style>\n<table border=\"1\" class=\"dataframe\">\n  <thead>\n    <tr style=\"text-align: right;\">\n      <th></th>\n      <th>weighted average recommendation score</th>\n      <th>movieId</th>\n    </tr>\n    <tr>\n      <th>movieId</th>\n      <th></th>\n      <th></th>\n    </tr>\n  </thead>\n  <tbody>\n    <tr>\n      <th>5073</th>\n      <td>5.0</td>\n      <td>5073</td>\n    </tr>\n    <tr>\n      <th>3329</th>\n      <td>5.0</td>\n      <td>3329</td>\n    </tr>\n    <tr>\n      <th>2284</th>\n      <td>5.0</td>\n      <td>2284</td>\n    </tr>\n    <tr>\n      <th>26801</th>\n      <td>5.0</td>\n      <td>26801</td>\n    </tr>\n    <tr>\n      <th>6776</th>\n      <td>5.0</td>\n      <td>6776</td>\n    </tr>\n    <tr>\n      <th>6672</th>\n      <td>5.0</td>\n      <td>6672</td>\n    </tr>\n    <tr>\n      <th>3759</th>\n      <td>5.0</td>\n      <td>3759</td>\n    </tr>\n    <tr>\n      <th>3769</th>\n      <td>5.0</td>\n      <td>3769</td>\n    </tr>\n    <tr>\n      <th>3775</th>\n      <td>5.0</td>\n      <td>3775</td>\n    </tr>\n    <tr>\n      <th>90531</th>\n      <td>5.0</td>\n      <td>90531</td>\n    </tr>\n  </tbody>\n</table>\n</div>"
                    },
                    "metadata": {}
                }
            ]
        },
        {
            "metadata": {},
            "cell_type": "code",
            "source": "movies_df.loc[movies_df['movieId'].isin(recommendation_df.head(10)['movieId'].tolist())]",
            "execution_count": 25,
            "outputs": [
                {
                    "output_type": "execute_result",
                    "execution_count": 25,
                    "data": {
                        "text/plain": "       movieId                                    title  \\\n2200      2284                             Bandit Queen   \n3243      3329                 Year My Voice Broke, The   \n3669      3759                       Fun and Fancy Free   \n3679      3769                Thunderbolt and Lightfoot   \n3685      3775                          Make Mine Music   \n4978      5073  Son's Room, The (Stanza del figlio, La)   \n6563      6672                         War Photographer   \n6667      6776        Lagaan: Once Upon a Time in India   \n9064     26801      Dragon Inn (Sun lung moon hak chan)   \n18106    90531                                    Shame   \n\n                             genres  year  \n2200                          Drama  1994  \n3243                          Drama  1987  \n3669     Animation|Children|Musical  1947  \n3679                         Action  1974  \n3685     Animation|Children|Musical  1946  \n4978                          Drama  2001  \n6563                Documentary|War  2001  \n6667   Comedy|Drama|Musical|Romance  2001  \n9064                         Action  1992  \n18106                         Drama  2011  ",
                        "text/html": "<div>\n<style scoped>\n    .dataframe tbody tr th:only-of-type {\n        vertical-align: middle;\n    }\n\n    .dataframe tbody tr th {\n        vertical-align: top;\n    }\n\n    .dataframe thead th {\n        text-align: right;\n    }\n</style>\n<table border=\"1\" class=\"dataframe\">\n  <thead>\n    <tr style=\"text-align: right;\">\n      <th></th>\n      <th>movieId</th>\n      <th>title</th>\n      <th>genres</th>\n      <th>year</th>\n    </tr>\n  </thead>\n  <tbody>\n    <tr>\n      <th>2200</th>\n      <td>2284</td>\n      <td>Bandit Queen</td>\n      <td>Drama</td>\n      <td>1994</td>\n    </tr>\n    <tr>\n      <th>3243</th>\n      <td>3329</td>\n      <td>Year My Voice Broke, The</td>\n      <td>Drama</td>\n      <td>1987</td>\n    </tr>\n    <tr>\n      <th>3669</th>\n      <td>3759</td>\n      <td>Fun and Fancy Free</td>\n      <td>Animation|Children|Musical</td>\n      <td>1947</td>\n    </tr>\n    <tr>\n      <th>3679</th>\n      <td>3769</td>\n      <td>Thunderbolt and Lightfoot</td>\n      <td>Action</td>\n      <td>1974</td>\n    </tr>\n    <tr>\n      <th>3685</th>\n      <td>3775</td>\n      <td>Make Mine Music</td>\n      <td>Animation|Children|Musical</td>\n      <td>1946</td>\n    </tr>\n    <tr>\n      <th>4978</th>\n      <td>5073</td>\n      <td>Son's Room, The (Stanza del figlio, La)</td>\n      <td>Drama</td>\n      <td>2001</td>\n    </tr>\n    <tr>\n      <th>6563</th>\n      <td>6672</td>\n      <td>War Photographer</td>\n      <td>Documentary|War</td>\n      <td>2001</td>\n    </tr>\n    <tr>\n      <th>6667</th>\n      <td>6776</td>\n      <td>Lagaan: Once Upon a Time in India</td>\n      <td>Comedy|Drama|Musical|Romance</td>\n      <td>2001</td>\n    </tr>\n    <tr>\n      <th>9064</th>\n      <td>26801</td>\n      <td>Dragon Inn (Sun lung moon hak chan)</td>\n      <td>Action</td>\n      <td>1992</td>\n    </tr>\n    <tr>\n      <th>18106</th>\n      <td>90531</td>\n      <td>Shame</td>\n      <td>Drama</td>\n      <td>2011</td>\n    </tr>\n  </tbody>\n</table>\n</div>"
                    },
                    "metadata": {}
                }
            ]
        }
    ],
    "metadata": {
        "kernelspec": {
            "name": "python3",
            "display_name": "Python 3.6",
            "language": "python"
        },
        "language_info": {
            "name": "python",
            "version": "3.6.9",
            "mimetype": "text/x-python",
            "codemirror_mode": {
                "name": "ipython",
                "version": 3
            },
            "pygments_lexer": "ipython3",
            "nbconvert_exporter": "python",
            "file_extension": ".py"
        }
    },
    "nbformat": 4,
    "nbformat_minor": 1
}